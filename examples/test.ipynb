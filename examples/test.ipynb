{
 "cells": [
  {
   "cell_type": "code",
   "execution_count": 1,
   "metadata": {},
   "outputs": [],
   "source": [
    "from math import *\n",
    "import os, sys\n",
    "sys.path.append(os.getcwd() + '\\..')\n",
    "from qnoise import *\n",
    "import matplotlib.pyplot as plt\n",
    "import numpy as np"
   ]
  },
  {
   "cell_type": "code",
   "execution_count": 160,
   "metadata": {},
   "outputs": [],
   "source": [
    "dzB = 23 # Magnetic field gradient\n",
    "v = 2*pi*250e3 # Secular frequency\n",
    "d = 310e-6 # Distance to electrode \n",
    "eta = 0.046 # Geometric factor\n",
    "mc_voltage_source = Source(macro_voltage_spectrum, 0, voltage_Dz(dzB, v, d, eta, state=\"bare\"))\n",
    "mc_ambient_source = Source(lambda w: 8e-24, 0, dw_db(\"bare\"))\n",
    "mc_noise = Noise([mc_voltage_source, mc_ambient_source])\n",
    "\n",
    "dzB = 150 # Magnetic field gradient\n",
    "v = 2*pi*250e3 # Secular frequency\n",
    "d = 150e-6 # Distance to electrode \n",
    "eta = 0.1 # Geometric factor\n",
    "hf_voltage_source = Source(macro_voltage_spectrum, 0, voltage_Dz(dzB, v, d, eta, state=\"bare\"))\n",
    "hf_ambient_source = Source(lambda w: 1e-20, 0, dw_db(\"bare\"))\n",
    "hf_noise = Noise([hf_voltage_source, hf_ambient_source])"
   ]
  },
  {
   "cell_type": "code",
   "execution_count": 161,
   "metadata": {},
   "outputs": [
    {
     "name": "stdout",
     "output_type": "stream",
     "text": [
      "T1 : inf\n",
      "Tphi : 0.0010549679558343585\n",
      "T2 : 0.0010549679558343585\n",
      "f1 : 3.6622825179786224e-80\n",
      "f2 : 1.674453835692211e-11\n"
     ]
    }
   ],
   "source": [
    "Omw = 2*pi*15e3\n",
    "N = 1\n",
    "\n",
    "tpi = 0.004\n",
    "my_noise = hf_noise\n",
    "T1 = my_noise.T1(Omw)\n",
    "Tphi = my_noise.Tphi(Omw, N)\n",
    "T2 = my_noise.T2(Omw, N)\n",
    "\n",
    "f1 = my_noise.fdecay(tpi, 2*pi*15e3, 1)\n",
    "f2 = my_noise.fdecayrabi(tpi, 2*pi/(tpi), 2*pi*15e3)\n",
    "\n",
    "print('T1 : ' + str(T1) + '\\nTphi : ' + str(Tphi) + '\\nT2 : ' + str(T2) + '\\nf1 : ' + str(f1)+ '\\nf2 : ' + str(f2))"
   ]
  },
  {
   "cell_type": "code",
   "execution_count": 166,
   "metadata": {},
   "outputs": [
    {
     "data": {
      "image/png": "[encoded data removed]",
      "text/plain": [
       "<Figure size 432x288 with 1 Axes>"
      ]
     },
     "metadata": {
      "needs_background": "light"
     },
     "output_type": "display_data"
    }
   ],
   "source": [
    "t_list = [10**t for t in np.linspace(-6, -3, 100)]\n",
    "mc_rabi_list = [1-mc_noise.fdecayrabi(t, 2*pi/t,2*pi*10e3) for t in t_list]\n",
    "mc_free_list = [1-mc_noise.fdecay(t, 2*pi*10e3) for t in t_list]\n",
    "hf_rabi_list = [1-hf_noise.fdecayrabi(t, 2*pi/t,2*pi*10e3) for t in t_list]\n",
    "hf_free_list = [1-hf_noise.fdecay(t, 2*pi*10e3) for t in t_list]\n",
    "plt.loglog(t_list, mc_rabi_list)\n",
    "plt.loglog(t_list, hf_rabi_list)\n",
    "plt.loglog(t_list, mc_free_list)\n",
    "plt.loglog(t_list, hf_free_list)\n",
    "plt.legend([\"Macro\", \"High fid\", \"Macro free\", \"High fid free\"])\n",
    "plt.ylim(0.0001, 0.01)\n",
    "plt.show()"
   ]
  },
  {
   "cell_type": "code",
   "execution_count": 167,
   "metadata": {},
   "outputs": [
    {
     "data": {
      "text/plain": [
       "99999.99999999999"
      ]
     },
     "execution_count": 167,
     "metadata": {},
     "output_type": "execute_result"
    }
   ],
   "source": [
    "1/(10e-6)"
   ]
  },
  {
   "cell_type": "code",
   "execution_count": 22,
   "metadata": {},
   "outputs": [
    {
     "ename": "NameError",
     "evalue": "name 'w' is not defined",
     "output_type": "error",
     "traceback": [
      "\u001b[1;31m---------------------------------------------------------------------------\u001b[0m",
      "\u001b[1;31mNameError\u001b[0m                                 Traceback (most recent call last)",
      "\u001b[1;32m<ipython-input-22-861204243117>\u001b[0m in \u001b[0;36m<module>\u001b[1;34m\u001b[0m\n\u001b[1;32m----> 1\u001b[1;33m \u001b[0mv_noise_source\u001b[0m\u001b[1;33m.\u001b[0m\u001b[0mnoise_func\u001b[0m\u001b[1;33m(\u001b[0m\u001b[0mw\u001b[0m\u001b[1;33m)\u001b[0m\u001b[1;33m\u001b[0m\u001b[1;33m\u001b[0m\u001b[0m\n\u001b[0m",
      "\u001b[1;31mNameError\u001b[0m: name 'w' is not defined"
     ]
    }
   ],
   "source": [
    " v_noise_source.noise_func(w) "
   ]
  },
  {
   "cell_type": "code",
   "execution_count": null,
   "metadata": {},
   "outputs": [],
   "source": []
  }
 ],
 "metadata": {
  "kernelspec": {
   "display_name": "Python 3",
   "language": "python",
   "name": "python3"
  },
  "language_info": {
   "codemirror_mode": {
    "name": "ipython",
    "version": 3
   },
   "file_extension": ".py",
   "mimetype": "text/x-python",
   "name": "python",
   "nbconvert_exporter": "python",
   "pygments_lexer": "ipython3",
   "version": "3.7.1"
  }
 },
 "nbformat": 4,
 "nbformat_minor": 2
}
