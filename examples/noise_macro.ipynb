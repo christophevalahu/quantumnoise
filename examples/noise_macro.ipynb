{
 "cells": [
  {
   "cell_type": "markdown",
   "metadata": {},
   "source": [
    "# Example : noise_macro\n",
    "\n",
    "This notebook provides an example noise spectrum for the macroscopic experiment, as well as common parameters. "
   ]
  },
  {
   "cell_type": "code",
   "execution_count": 4,
   "metadata": {},
   "outputs": [],
   "source": [
    "from math import *\n",
    "import os, sys\n",
    "sys.path.append(os.getcwd() + '\\..\\src')\n",
    "from quantumnoise import *"
   ]
  },
  {
   "cell_type": "markdown",
   "metadata": {},
   "source": [
    "## 1. Voltage PSD\n",
    "\n",
    "The PSD function for voltage noise on the macroscopic experiment is provided in the source code, and can be accessed with :\n",
    "```python\n",
    "v_noise_macro(w)\n",
    "```\n",
    "where w is the angular frequency. \n",
    "\n",
    "We first define a noise source by passing a noise PSD function to the Source() class :"
   ]
  },
  {
   "cell_type": "code",
   "execution_count": 5,
   "metadata": {},
   "outputs": [],
   "source": [
    "v_noise_source = Source(v_noise_macro)"
   ]
  },
  {
   "cell_type": "markdown",
   "metadata": {},
   "source": [
    "The noise PSD can then be viewed :"
   ]
  },
  {
   "cell_type": "code",
   "execution_count": 6,
   "metadata": {},
   "outputs": [
    {
     "data": {
      "image/png": "[encoded data removed]",
      "text/plain": [
       "<Figure size 432x288 with 1 Axes>"
      ]
     },
     "metadata": {
      "needs_background": "light"
     },
     "output_type": "display_data"
    }
   ],
   "source": [
    "v_noise_source.show()"
   ]
  },
  {
   "cell_type": "markdown",
   "metadata": {},
   "source": [
    "## 2. Lifetime, Dephasing time and Decoherence Time\n",
    "\n",
    "For every noise spectrum, we can compute a lifetime $T_1$, a dephasing time $T_\\phi$, and a decoherence time $T_2$. We'll start by computing the lifetime. A particular type of noise has an associated coupling strength for lifetimes and dephasing times. Some noise sources won't cause any lifetime decay, others no dephasing decay, and some will cause both simultaneous decays. Voltage noise will cause both lifetime and dephasing time decay. \n",
    "\n",
    "We must first calculate the corresponding lifetime and dephasing coupling strengths, here denoted by Dx and Dz respectively :"
   ]
  },
  {
   "cell_type": "code",
   "execution_count": 7,
   "metadata": {},
   "outputs": [],
   "source": [
    "dzB = 23 # Magnetic field gradient\n",
    "v = 2*pi*250e3 # Secular frequency\n",
    "d = 310e-6 # Distance to electrode \n",
    "eta = 0.046 # Geometric factor\n",
    "\n",
    "v_Dx = voltage_Dx(dzB, v, d, eta)\n",
    "v_Dz = voltage_Dz(dzB, v, d, eta)"
   ]
  },
  {
   "cell_type": "markdown",
   "metadata": {},
   "source": [
    "The voltage source noise previously defined can be updated with the new coupling strengths :"
   ]
  },
  {
   "cell_type": "code",
   "execution_count": 8,
   "metadata": {},
   "outputs": [],
   "source": [
    "v_noise_source.Dx = v_Dx\n",
    "v_noise_source.Dz = v_Dz"
   ]
  },
  {
   "cell_type": "markdown",
   "metadata": {},
   "source": [
    "A noise process is defined by a list of all noise sources. In this case, there is only the voltage noise. We define a noise process by calling the Noise() class. "
   ]
  },
  {
   "cell_type": "code",
   "execution_count": 9,
   "metadata": {},
   "outputs": [],
   "source": [
    "my_noise = Noise([v_noise_source])"
   ]
  },
  {
   "cell_type": "markdown",
   "metadata": {},
   "source": [
    "The relevent times can now be found :"
   ]
  },
  {
   "cell_type": "code",
   "execution_count": 10,
   "metadata": {},
   "outputs": [
    {
     "name": "stdout",
     "output_type": "stream",
     "text": [
      "T1 : 0.7320521366887514\n",
      "Tphi : 1.0562817847356356\n",
      "T2 : 0.742548679894202\n"
     ]
    }
   ],
   "source": [
    "Omw = 2*pi*15e3\n",
    "N = 1\n",
    "\n",
    "T1 = my_noise.T1(Omw)\n",
    "Tphi = my_noise.Tphi(Omw, N)\n",
    "T2 = my_noise.T2(Omw, N)\n",
    "\n",
    "print('T1 : ' + str(T1) + '\\nTphi : ' + str(Tphi) + '\\nT2 : ' + str(T2))"
   ]
  },
  {
   "cell_type": "markdown",
   "metadata": {},
   "source": [
    "In the above example, Omw corresponds to the dressed state splitting, and N is the number of refocussing pulses. "
   ]
  },
  {
   "cell_type": "markdown",
   "metadata": {},
   "source": [
    "## 3. Decay functions\n",
    "\n",
    "A qubit will decohere over time, and its fidelity, ie. integry of information, will deteriorate. There are two scenarios: when the qubit is idle and when it is evolving due to an external field (for example during a gate). The corresponding decay functions are :\n",
    "```python\n",
    "fdecay(t, Omw, N)\n",
    "fdecayrabi(t, OmR, Omw)\n",
    "```\n",
    "Here, Omw denotes the dressed state splitting, N the number of refocusing pulses, and OmR the power of the gate field. \n",
    "\n",
    "Let us assume that we perform a two qubit gate, with a single refocusing pulse, and a dressed state splitting of $2\\pi 15$ kHz. If the gate time is 3ms, the fidelity will be :\n"
   ]
  },
  {
   "cell_type": "code",
   "execution_count": 11,
   "metadata": {},
   "outputs": [
    {
     "data": {
      "text/plain": [
       "0.9979526673392656"
      ]
     },
     "execution_count": 11,
     "metadata": {},
     "output_type": "execute_result"
    }
   ],
   "source": [
    "my_noise.fdecay(3e-3, 2*pi*15e3, 1)"
   ]
  },
  {
   "cell_type": "markdown",
   "metadata": {},
   "source": [
    "The fidelity of a single qubit gate which lasts 1 ms is : "
   ]
  },
  {
   "cell_type": "code",
   "execution_count": 12,
   "metadata": {},
   "outputs": [
    {
     "data": {
      "text/plain": [
       "0.9989759320393391"
      ]
     },
     "execution_count": 12,
     "metadata": {},
     "output_type": "execute_result"
    }
   ],
   "source": [
    "my_noise.fdecayrabi(1e-3, 1/(2*pi*1e-3), 2*pi*15e3)"
   ]
  },
  {
   "cell_type": "markdown",
   "metadata": {},
   "source": [
    "## 4. Multiple noise sources\n",
    "\n",
    "Up to now, only voltage noise was considered. Other sources such as current noise on CCWs and ambient magnetic field noise can cause decoherence. Let us define a new noise source corresponding to ambient magnetic field noise which we'll simply model as white noise. Since the noise PSD is magnetic field noise, the couplings Dx and Dz can be set to 1."
   ]
  },
  {
   "cell_type": "code",
   "execution_count": 13,
   "metadata": {},
   "outputs": [],
   "source": [
    "def ambient_B(w) :\n",
    "    return 1e-24 # B field noise is 1 pT^2/Hz\n",
    "\n",
    "ambient_B_source = Source(ambient_B, 1, 1)"
   ]
  },
  {
   "cell_type": "code",
   "execution_count": 14,
   "metadata": {},
   "outputs": [
    {
     "data": {
      "image/png": "[encoded data removed]",
      "text/plain": [
       "<Figure size 432x288 with 1 Axes>"
      ]
     },
     "metadata": {
      "needs_background": "light"
     },
     "output_type": "display_data"
    }
   ],
   "source": [
    "my_noise = Noise([v_noise_source, ambient_B_source])\n",
    "\n",
    "my_noise.show()"
   ]
  }
 ],
 "metadata": {
  "kernelspec": {
   "display_name": "Python 3",
   "language": "python",
   "name": "python3"
  },
  "language_info": {
   "codemirror_mode": {
    "name": "ipython",
    "version": 3
   },
   "file_extension": ".py",
   "mimetype": "text/x-python",
   "name": "python",
   "nbconvert_exporter": "python",
   "pygments_lexer": "ipython3",
   "version": "3.7.1"
  }
 },
 "nbformat": 4,
 "nbformat_minor": 2
}
