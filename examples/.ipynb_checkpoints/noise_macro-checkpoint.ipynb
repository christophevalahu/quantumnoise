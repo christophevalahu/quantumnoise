{
 "cells": [
  {
   "cell_type": "markdown",
   "metadata": {},
   "source": [
    "# Example : noise_macro\n",
    "\n",
    "This notebook provides an example noise spectrum for the macroscopic experiment, as well as common parameters. "
   ]
  },
  {
   "cell_type": "code",
   "execution_count": 1,
   "metadata": {},
   "outputs": [],
   "source": [
    "from math import *\n",
    "import os, sys\n",
    "sys.path.append(os.getcwd() + '\\..\\src')\n",
    "from quantumnoise import *"
   ]
  },
  {
   "cell_type": "markdown",
   "metadata": {},
   "source": [
    "## 1. Voltage PSD\n",
    "\n",
    "The PSD function for voltage noise on the macroscopic experiment is provided in the source code, and can be accessed with :\n",
    "```python\n",
    "macro_noise(w)\n",
    "```\n",
    "where w is the angular frequency. \n",
    "\n",
    "We first define a noise process by passing a noise PSD function to the Noise() class :"
   ]
  },
  {
   "cell_type": "code",
   "execution_count": 2,
   "metadata": {},
   "outputs": [],
   "source": [
    "my_noise = Noise(noise_macro)"
   ]
  },
  {
   "cell_type": "markdown",
   "metadata": {},
   "source": [
    "The noise PSD can then be viewed :"
   ]
  },
  {
   "cell_type": "code",
   "execution_count": 3,
   "metadata": {},
   "outputs": [
    {
     "data": {
      "image/png": "[encoded data removed]",
      "text/plain": [
       "<Figure size 432x288 with 1 Axes>"
      ]
     },
     "metadata": {
      "needs_background": "light"
     },
     "output_type": "display_data"
    }
   ],
   "source": [
    "my_noise.show()"
   ]
  },
  {
   "cell_type": "markdown",
   "metadata": {},
   "source": [
    "## 2. Lifetime, Dephasing time and Decoherence Time\n",
    "\n",
    "For every noise spectrum, we can compute a lifetime $T_1$, a dephasing time $T_\\phi$, and a decoherence time $T_2$. We'll start by computing the lifetime. A particular type of noise has an associated coupling strength for lifetimes and dephasing times. Some noise sources won't cause any lifetime decay, others no dephasing decay, and some will cause both simultaneous decays. Voltage noise will cause both lifetime and dephasing time decay. \n",
    "\n",
    "We must first calculate the corresponding lifetime and dephasing coupling strengths, here denoted by Dx and Dz respectively :"
   ]
  },
  {
   "cell_type": "code",
   "execution_count": 4,
   "metadata": {},
   "outputs": [],
   "source": [
    "dzB = 23 # Magnetic field gradient\n",
    "v = 2*pi*250e3 # Secular frequency\n",
    "d = 310e-6 # Distance to electrode \n",
    "eta = 0.046 # Geometric factor\n",
    "\n",
    "my_noise.Dx = voltage_Dx(dzB, v, d, eta)\n",
    "my_noise.Dz = voltage_Dz(dzB, v, d, eta)"
   ]
  },
  {
   "cell_type": "markdown",
   "metadata": {},
   "source": [
    "The coupling strengths are functions of the magnetic field gradient, the secular frequency, the distance to electrodes and the geometric factor. \n",
    "\n",
    "The relevent times can now be found :"
   ]
  },
  {
   "cell_type": "code",
   "execution_count": 5,
   "metadata": {},
   "outputs": [
    {
     "name": "stdout",
     "output_type": "stream",
     "text": [
      "T1 : 0.7320521366887514\n",
      "Tphi : 1.056281816044906\n",
      "T2 : 0.7425486680517893\n"
     ]
    },
    {
     "name": "stderr",
     "output_type": "stream",
     "text": [
      "C:\\Users\\Christophe\\Documents\\quantumnoise\\examples\\..\\src\\quantumnoise.py:67: RuntimeWarning: divide by zero encountered in double_scalars\n",
      "  return 1/((w * t)**2) * abs(1 +\n",
      "C:\\Users\\Christophe\\Documents\\quantumnoise\\examples\\..\\src\\quantumnoise.py:69: RuntimeWarning: invalid value encountered in double_scalars\n",
      "  2*sum([((-1)**(i+1))*cmath.exp(1j*w*t/(N+1)*(i+1))*cos(w*tpi/2) for i in range(N)]))**2\n",
      "C:\\Users\\Christophe\\Anaconda3\\lib\\site-packages\\scipy\\integrate\\quadpack.py:385: IntegrationWarning: The occurrence of roundoff error is detected, which prevents \n",
      "  the requested tolerance from being achieved.  The error may be \n",
      "  underestimated.\n",
      "  warnings.warn(msg, IntegrationWarning)\n"
     ]
    }
   ],
   "source": [
    "Omw = 2*pi*15e3\n",
    "N = 1\n",
    "\n",
    "T1 = my_noise.T1(Omw)\n",
    "Tphi = my_noise.Tphi(Omw, N)\n",
    "T2 = my_noise.T2(Omw, N)\n",
    "\n",
    "print('T1 : ' + str(T1) + '\\nTphi : ' + str(Tphi) + '\\nT2 : ' + str(T2))"
   ]
  },
  {
   "cell_type": "markdown",
   "metadata": {},
   "source": [
    "In the above example, Omw corresponds to the dressed state splitting, and N is the number of refocussing pulses. "
   ]
  },
  {
   "cell_type": "markdown",
   "metadata": {},
   "source": [
    "## 3. Decay functions\n",
    "\n",
    "A qubit will decohere over time, and its fidelity, ie. integry of information, will deteriorate. There are two scenarios: when the qubit is idle and when it is evolving due to an external field (for example during a gate). The corresponding decay functions are :\n",
    "```python\n",
    "fdecay(t, Omw, N)\n",
    "fdecayrabi(t, OmR, Omw)\n",
    "```\n",
    "Here, Omw denotes the dressed state splitting, N the number of refocusing pulses, and OmR the power of the gate field. \n",
    "\n",
    "Let us assume that we perform a two qubit gate, with a single refocusing pulse, and a dressed state splitting of $2\\pi 15$ kHz. If the gate time is 3ms, the fidelity will be :\n"
   ]
  },
  {
   "cell_type": "code",
   "execution_count": 6,
   "metadata": {},
   "outputs": [
    {
     "data": {
      "text/plain": [
       "0.9979526673392656"
      ]
     },
     "execution_count": 6,
     "metadata": {},
     "output_type": "execute_result"
    }
   ],
   "source": [
    "my_noise.fdecay(3e-3, 2*pi*15e3, 1)"
   ]
  },
  {
   "cell_type": "markdown",
   "metadata": {},
   "source": [
    "The fidelity of a single qubit gate which lasts 1 ms is : "
   ]
  },
  {
   "cell_type": "code",
   "execution_count": 7,
   "metadata": {},
   "outputs": [
    {
     "data": {
      "text/plain": [
       "0.9989760064498673"
      ]
     },
     "execution_count": 7,
     "metadata": {},
     "output_type": "execute_result"
    }
   ],
   "source": [
    "my_noise.fdecayrabi(1e-3, 1/(2*pi*1e-3), 2*pi*15e3)"
   ]
  },
  {
   "cell_type": "markdown",
   "metadata": {},
   "source": [
    "## 4. Extending to a scalable architecture\n",
    "\n",
    "The parameters used up to now correspond to those of the macroscopic experiment. We can estimate the performance of a chip based trap which would be used in a scalable architecture. The parameters would be (gross estimate) :"
   ]
  },
  {
   "cell_type": "code",
   "execution_count": 14,
   "metadata": {},
   "outputs": [],
   "source": [
    "dzB = 150 # Magnetic field gradient\n",
    "v = 2*pi*250e3 # Secular frequency\n",
    "d = 150e-6 # Distance to electrode \n",
    "eta = 0.1 # Geometric factor\n",
    "\n",
    "my_noise.Dx = voltage_Dx(dzB, v, d, eta)\n",
    "my_noise.Dz = voltage_Dz(dzB, v, d, eta)"
   ]
  },
  {
   "cell_type": "code",
   "execution_count": 15,
   "metadata": {},
   "outputs": [
    {
     "name": "stdout",
     "output_type": "stream",
     "text": [
      "T1 : 0.0008526876253199453\n",
      "Tphi : 0.2\n",
      "T2 : 0.2\n",
      "Fidelity 1q = 0.9739573772761211\n",
      "Fidelity 2q = 0.8893394801907727\n"
     ]
    }
   ],
   "source": [
    "Omw = 2*pi*15e3\n",
    "N = 1\n",
    "\n",
    "T1 = my_noise.T1(Omw)\n",
    "Tphi = my_noise.Tphi(Omw, N)\n",
    "T2 = my_noise.T2(Omw, N)\n",
    "\n",
    "f2q = my_noise.fdecay(200e-6, Omw, N)\n",
    "f1q = my_noise.fdecayrabi(30e-6, 1/(2*pi*1e-3), Omw)\n",
    "\n",
    "print('T1 : ' + str(T1) + '\\nTphi : ' + str(Tphi) + '\\nT2 : ' + str(T2)\n",
    "      + '\\nFidelity 1q = ' + str(f1q) + '\\nFidelity 2q = ' + str(f2q) )"
   ]
  },
  {
   "cell_type": "markdown",
   "metadata": {},
   "source": [
    "*WARNING : $T_\\phi$ and $T_2$ times aren't accurately estimated for low values. Will be fixed in next update!*"
   ]
  },
  {
   "cell_type": "code",
   "execution_count": null,
   "metadata": {},
   "outputs": [],
   "source": []
  }
 ],
 "metadata": {
  "kernelspec": {
   "display_name": "Python 3",
   "language": "python",
   "name": "python3"
  },
  "language_info": {
   "codemirror_mode": {
    "name": "ipython",
    "version": 3
   },
   "file_extension": ".py",
   "mimetype": "text/x-python",
   "name": "python",
   "nbconvert_exporter": "python",
   "pygments_lexer": "ipython3",
   "version": "3.7.1"
  }
 },
 "nbformat": 4,
 "nbformat_minor": 2
}
